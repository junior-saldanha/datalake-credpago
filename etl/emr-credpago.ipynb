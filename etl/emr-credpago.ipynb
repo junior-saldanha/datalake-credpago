{
 "cells": [
  {
   "cell_type": "markdown",
   "id": "e0ab6ed8-f798-4481-95c3-8d6b8b66a02b",
   "metadata": {},
   "source": [
    "# Datalake Credpago"
   ]
  },
  {
   "cell_type": "code",
   "execution_count": 1,
   "id": "78873106-50ad-47c0-add4-96580cb36d4f",
   "metadata": {
    "execution": {
     "iopub.execute_input": "2022-03-13T23:10:16.958998Z",
     "iopub.status.busy": "2022-03-13T23:10:16.958644Z",
     "iopub.status.idle": "2022-03-13T23:10:45.895886Z",
     "shell.execute_reply": "2022-03-13T23:10:45.895194Z",
     "shell.execute_reply.started": "2022-03-13T23:10:16.958967Z"
    },
    "tags": [],
    "vscode": {
     "languageId": "json"
    }
   },
   "outputs": [
    {
     "data": {
      "application/vnd.jupyter.widget-view+json": {
       "model_id": "e4f39b18a9c74a8f928a9dad7cc41c94",
       "version_major": 2,
       "version_minor": 0
      },
      "text/plain": [
       "VBox()"
      ]
     },
     "metadata": {},
     "output_type": "display_data"
    },
    {
     "name": "stdout",
     "output_type": "stream",
     "text": [
      "Starting Spark application\n"
     ]
    },
    {
     "data": {
      "text/html": [
       "<table>\n",
       "<tr><th>ID</th><th>YARN Application ID</th><th>Kind</th><th>State</th><th>Spark UI</th><th>Driver log</th><th>Current session?</th></tr><tr><td>1</td><td>application_1647210055072_0003</td><td>pyspark</td><td>idle</td><td><a target=\"_blank\" href=\"http://ip-172-31-19-95.us-east-2.compute.internal:20888/proxy/application_1647210055072_0003/\" class=\"emr-proxy-link\" emr-resource=\"j-36HQZ8XSIGZ6N\n",
       "\" application-id=\"application_1647210055072_0003\">Link</a></td><td><a target=\"_blank\" href=\"http://ip-172-31-18-0.us-east-2.compute.internal:8042/node/containerlogs/container_1647210055072_0003_01_000001/livy\" >Link</a></td><td>✔</td></tr></table>"
      ],
      "text/plain": [
       "<IPython.core.display.HTML object>"
      ]
     },
     "metadata": {},
     "output_type": "display_data"
    },
    {
     "data": {
      "application/vnd.jupyter.widget-view+json": {
       "model_id": "",
       "version_major": 2,
       "version_minor": 0
      },
      "text/plain": [
       "FloatProgress(value=0.0, bar_style='info', description='Progress:', layout=Layout(height='25px', width='50%'),…"
      ]
     },
     "metadata": {},
     "output_type": "display_data"
    },
    {
     "name": "stdout",
     "output_type": "stream",
     "text": [
      "SparkSession available as 'spark'.\n"
     ]
    },
    {
     "data": {
      "application/vnd.jupyter.widget-view+json": {
       "model_id": "",
       "version_major": 2,
       "version_minor": 0
      },
      "text/plain": [
       "FloatProgress(value=0.0, bar_style='info', description='Progress:', layout=Layout(height='25px', width='50%'),…"
      ]
     },
     "metadata": {},
     "output_type": "display_data"
    }
   ],
   "source": [
    "from pyspark.sql import functions as f\n",
    "from pyspark.sql import SparkSession"
   ]
  },
  {
   "cell_type": "markdown",
   "id": "fce6ca85-74d2-490d-a114-c0fa5450c10c",
   "metadata": {
    "tags": []
   },
   "source": [
    "## Transforma os dados em Parquet"
   ]
  },
  {
   "cell_type": "markdown",
   "id": "b1c2f28e-d1ba-47a2-8a9e-c6b313444479",
   "metadata": {},
   "source": [
    "### Primeira coisa importante: corrigir os nomes das colunas"
   ]
  },
  {
   "cell_type": "code",
   "execution_count": null,
   "id": "ce2cd656-8ad7-45bc-87ca-f3cb8453698a",
   "metadata": {
    "vscode": {
     "languageId": "json"
    }
   },
   "outputs": [],
   "source": [
    "datalake.select(rais.columns[7]).show(10)"
   ]
  },
  {
   "cell_type": "raw",
   "id": "368e5fa4-4afb-418e-b902-7d99f838da1c",
   "metadata": {
    "tags": []
   },
   "source": [
    "for ind, col in zip(range(len(rais.columns)) ,datalake.columns):\n",
    "    print(col, ind)"
   ]
  },
  {
   "cell_type": "code",
   "execution_count": null,
   "id": "0869e725-48cf-483e-8035-b1d1206babd4",
   "metadata": {
    "tags": [],
    "vscode": {
     "languageId": "json"
    }
   },
   "outputs": [],
   "source": [
    "datalake.select('ibge_subsetor').limit(10).show()"
   ]
  },
  {
   "cell_type": "code",
   "execution_count": 4,
   "id": "37cdb839-f5c7-4498-844a-2f0664acce71",
   "metadata": {
    "execution": {
     "iopub.execute_input": "2022-03-13T23:16:51.132267Z",
     "iopub.status.busy": "2022-03-13T23:16:51.132026Z",
     "iopub.status.idle": "2022-03-13T23:16:51.907051Z",
     "shell.execute_reply": "2022-03-13T23:16:51.906304Z",
     "shell.execute_reply.started": "2022-03-13T23:16:51.132243Z"
    },
    "vscode": {
     "languageId": "json"
    }
   },
   "outputs": [
    {
     "data": {
      "application/vnd.jupyter.widget-view+json": {
       "model_id": "2940c3c7411f490dbf47c2039a7626cc",
       "version_major": 2,
       "version_minor": 0
      },
      "text/plain": [
       "VBox()"
      ]
     },
     "metadata": {},
     "output_type": "display_data"
    },
    {
     "data": {
      "application/vnd.jupyter.widget-view+json": {
       "model_id": "",
       "version_major": 2,
       "version_minor": 0
      },
      "text/plain": [
       "FloatProgress(value=0.0, bar_style='info', description='Progress:', layout=Layout(height='25px', width='50%'),…"
      ]
     },
     "metadata": {},
     "output_type": "display_data"
    },
    {
     "name": "stdout",
     "output_type": "stream",
     "text": [
      "241"
     ]
    }
   ],
   "source": [
    "datalake.rdd.getNumPartitions()"
   ]
  },
  {
   "cell_type": "markdown",
   "id": "0ff6cbbb-77d8-4363-8e1b-681e0b4f3357",
   "metadata": {
    "tags": []
   },
   "source": [
    "### Construindo variáveis "
   ]
  },
  {
   "cell_type": "code",
   "execution_count": null,
   "id": "8bb56a53-03cf-4b26-b8bf-0f462a43174b",
   "metadata": {
    "tags": [],
    "vscode": {
     "languageId": "json"
    }
   },
   "outputs": [],
   "source": [
    "# Para que o comando explain() funcione\n",
    "from py4j.java_gateway import java_import\n",
    "java_import(spark._sc._jvm, \"org.apache.spark.sql.api.python.*\")"
   ]
  },
  {
   "cell_type": "code",
   "execution_count": null,
   "id": "1593a168-4fa8-44ce-88a3-48b140573f39",
   "metadata": {
    "vscode": {
     "languageId": "json"
    }
   },
   "outputs": [],
   "source": [
    "spark.stop()"
   ]
  },
  {
   "cell_type": "markdown",
   "id": "66a64848-b89c-45f3-9d95-cc1500387923",
   "metadata": {},
   "source": [
    "## Lê dados em Parquet para análise"
   ]
  },
  {
   "cell_type": "code",
   "execution_count": null,
   "id": "672eb8de-e4f1-4830-89d5-ac96508db2bb",
   "metadata": {
    "tags": [],
    "vscode": {
     "languageId": "json"
    }
   },
   "outputs": [],
   "source": [
    "datalake.groupby('cnae_2_0_classe').agg(f.count(f.lit(1))).show(50)"
   ]
  },
  {
   "cell_type": "code",
   "execution_count": null,
   "id": "1908863a-4874-4776-bd6a-446e83a77088",
   "metadata": {
    "vscode": {
     "languageId": "json"
    }
   },
   "outputs": [],
   "source": []
  }
 ],
 "metadata": {
  "kernelspec": {
   "display_name": "PySpark",
   "language": "",
   "name": "pysparkkernel"
  },
  "language_info": {
   "codemirror_mode": {
    "name": "python",
    "version": 3
   },
   "mimetype": "text/x-python",
   "name": "pyspark",
   "pygments_lexer": "python3"
  }
 },
 "nbformat": 4,
 "nbformat_minor": 5
}
